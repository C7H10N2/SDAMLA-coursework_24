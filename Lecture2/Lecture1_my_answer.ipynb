{
 "cells": [
  {
   "cell_type": "markdown",
   "id": "9b65f8dc",
   "metadata": {},
   "source": [
    "Q1:How many elements does the array have (this is the number of signal events in the data file)?"
   ]
  },
  {
   "cell_type": "code",
   "execution_count": 13,
   "id": "d7fbb9dc",
   "metadata": {},
   "outputs": [
    {
     "name": "stdout",
     "output_type": "stream",
     "text": [
      "About: 763301\n"
     ]
    }
   ],
   "source": [
    "timestamps = []\n",
    "\n",
    "with open('TopRight_20230803.txt', 'r') as file:\n",
    "    for line in file:\n",
    "        columns = line.split()\n",
    "        if len(columns) >= 4 and columns[3].replace('.', '', 1).isdigit():\n",
    "            timestamps.append(float(columns[3]))\n",
    "\n",
    "num_elements = len(timestamps)\n",
    "\n",
    "print(\"About:\", num_elements)"
   ]
  },
  {
   "cell_type": "markdown",
   "id": "bfeee42d",
   "metadata": {},
   "source": [
    "Q2:Fill the TimeStamp values into a 1 dimensional histogram with 100 bins. What is the shape of the distribution you see?"
   ]
  },
  {
   "cell_type": "code",
   "execution_count": 11,
   "id": "9e85fd60",
   "metadata": {},
   "outputs": [
    {
     "data": {
      "image/png": "[encoded data removed]",
      "text/plain": [
       "<Figure size 640x480 with 1 Axes>"
      ]
     },
     "metadata": {},
     "output_type": "display_data"
    }
   ],
   "source": [
    "import matplotlib.pyplot as plt\n",
    "\n",
    "plt.hist(timestamps, bins=100)\n",
    "plt.xlabel('TimeStamp [ms]')\n",
    "plt.ylabel('Count')\n",
    "plt.show()"
   ]
  },
  {
   "cell_type": "markdown",
   "id": "62bcdd9b",
   "metadata": {},
   "source": [
    "Q3:The TimeStamp value, measured in milli-seconds, indicates when after time t = 0s each signal event occurred. The value of the last TimeStamp gives the total Ame duration over which data were collected. Approximately, what is the rate of signal events per second?"
   ]
  },
  {
   "cell_type": "code",
   "execution_count": 16,
   "id": "6647313f",
   "metadata": {},
   "outputs": [
    {
     "name": "stdout",
     "output_type": "stream",
     "text": [
      "Rate: 2.3959550205030924\n"
     ]
    }
   ],
   "source": [
    "last_timestamp = timestamps[-1]\n",
    "total_duration_ms = last_timestamp\n",
    "\n",
    "num_events = len(timestamps)\n",
    "events_per_second = num_events / (total_duration_ms / 1000)\n",
    "\n",
    "print(\"Rate:\", events_per_second)\n"
   ]
  },
  {
   "cell_type": "markdown",
   "id": "d92ab727",
   "metadata": {},
   "source": [
    "Q4:What is the relative statistical uncertainty on the average rate of signal events per second, based on the TimeStamp information?\n",
    "\n",
    "Hint: In this question we use the coefficient of variation as the relative statistical uncertainty. You can compute 100 rates using the stats in these 100 bins. Dividing the standard deviation of these 100 rates by the absolute value of their mean will give you the coefficient of variation."
   ]
  },
  {
   "cell_type": "code",
   "execution_count": 21,
   "id": "02dc85c3",
   "metadata": {},
   "outputs": [
    {
     "name": "stdout",
     "output_type": "stream",
     "text": [
      "Relative statistical uncertainty: 1.39%\n"
     ]
    }
   ],
   "source": [
    "import numpy as np\n",
    "\n",
    "num_bins = 100\n",
    "bin_size = total_duration_ms / num_bins\n",
    "\n",
    "event_counts, _ = np.histogram(timestamps, bins=num_bins) \n",
    "rates = event_counts / (bin_size / 1000)\n",
    "\n",
    "mean_rate = np.mean(rates)\n",
    "std_dev = np.std(rates)\n",
    "relative_uncertainty = (std_dev / abs(mean_rate)) * 100 \n",
    "\n",
    "print(\"Relative statistical uncertainty: {:.2f}%\".format(relative_uncertainty))"
   ]
  }
 ],
 "metadata": {
  "kernelspec": {
   "display_name": "Python 3 (ipykernel)",
   "language": "python",
   "name": "python3"
  },
  "language_info": {
   "codemirror_mode": {
    "name": "ipython",
    "version": 3
   },
   "file_extension": ".py",
   "mimetype": "text/x-python",
   "name": "python",
   "nbconvert_exporter": "python",
   "pygments_lexer": "ipython3",
   "version": "3.10.0"
  }
 },
 "nbformat": 4,
 "nbformat_minor": 5
}
