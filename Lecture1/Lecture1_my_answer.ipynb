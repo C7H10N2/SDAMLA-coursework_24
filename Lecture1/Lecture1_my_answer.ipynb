{
 "cells": [
  {
   "cell_type": "markdown",
   "metadata": {},
   "source": [
    "## Homework Ⅱ Square Root Calculator\n",
    "\n",
    "#### Description:\n",
    "The calculation methods in the class utilize the `Newton-Raphson Iterative Algorithm` to approximate the square root of a given number.\n",
    "\n",
    "#### Usage:\n",
    "calculate requires `x` as input.  \n",
    "**Here `x` should be greater than zero.**  \n",
    "The program will give you the result.  "
   ]
  },
  {
   "cell_type": "code",
   "execution_count": 3,
   "metadata": {},
   "outputs": [
    {
     "name": "stdout",
     "output_type": "stream",
     "text": [
      "Square root: 7.000000000000101\n"
     ]
    }
   ],
   "source": [
    "import random\n",
    "\n",
    "class SquareRootCalculator:\n",
    "    def __init__(self, epsilon):\n",
    "        self.epsilon = epsilon\n",
    "\n",
    "    def calculate(self, x):\n",
    "        y = random.random()\n",
    "        while abs(y * y - x) > self.epsilon:\n",
    "            y = (y + x / y) / 2\n",
    "        return y\n",
    "\n",
    "\n",
    "calculator = SquareRootCalculator(0.00001)\n",
    "result = calculator.calculate(49)\n",
    "print(\"Square root:\", result)"
   ]
  },
  {
   "cell_type": "markdown",
   "metadata": {},
   "source": [
    "## Homework Ⅲ DataProcessor\n",
    "\n",
    "### Description:\n",
    "DataProcessor reads data from a specified file, calculates the standard deviation and mean for each column, and prints the results.\n",
    "\n",
    "### Usage\n",
    "You need to create an instance of this class with the **file path** as input. Call process_data() to process it."
   ]
  },
  {
   "cell_type": "code",
   "execution_count": 5,
   "metadata": {},
   "outputs": [
    {
     "name": "stdout",
     "output_type": "stream",
     "text": [
      "0-th column\n",
      "std:  3.1622776601683795\n",
      "avg:  9.0\n",
      "1-th column\n",
      "std:  1.937024215108669\n",
      "avg:  7.500909090909093\n",
      "2-th column\n",
      "std:  3.1622776601683795\n",
      "avg:  9.0\n",
      "3-th column\n",
      "std:  1.93710869148962\n",
      "avg:  7.500909090909091\n",
      "4-th column\n",
      "std:  3.1622776601683795\n",
      "avg:  9.0\n",
      "5-th column\n",
      "std:  1.9359329439927313\n",
      "avg:  7.500000000000001\n",
      "6-th column\n",
      "std:  3.1622776601683795\n",
      "avg:  9.0\n",
      "7-th column\n",
      "std:  1.9360806451340837\n",
      "avg:  7.50090909090909\n"
     ]
    }
   ],
   "source": [
    "import numpy as np\n",
    "\n",
    "class DataProcessor:\n",
    "    def __init__(self, file_name):\n",
    "        self.file_name = file_name\n",
    "\n",
    "    def process_data(self):\n",
    "        num_cols = 8\n",
    "        with open(self.file_name, 'r') as f:\n",
    "            lines = f.readlines()\n",
    "            columns = [[] for _ in range(num_cols)]\n",
    "            for line in lines[1:]:\n",
    "                numbers = line.strip().split('\\t')\n",
    "                for i, number in enumerate(numbers):\n",
    "                    columns[i].append(float(number))\n",
    "            \n",
    "        for i, column in enumerate(columns):\n",
    "            print(f'{i}-th column')\n",
    "            print('std: ', np.std(column))\n",
    "            print('avg: ', sum(column) / len(column))\n",
    "\n",
    "\n",
    "file_path = 'data_HW1.txt'\n",
    "data_processor = DataProcessor(file_path)\n",
    "data_processor.process_data()"
   ]
  },
  {
   "cell_type": "markdown",
   "metadata": {},
   "source": [
    "## Conclusion\n",
    "All code for the course has been uploaded to the github.  \n",
    "\n",
    "\n",
    "[![SDAMLA-coursework_24](https://github-readme-stats.vercel.app/api/pin/?username=C7H10N2&repo=SDAMLA-coursework_24)](https://github.com/C7H10N2/SDAMLA-coursework_24.git)\n"
   ]
  }
 ],
 "metadata": {
  "kernelspec": {
   "display_name": "Python 3",
   "language": "python",
   "name": "python3"
  },
  "language_info": {
   "codemirror_mode": {
    "name": "ipython",
    "version": 3
   },
   "file_extension": ".py",
   "mimetype": "text/x-python",
   "name": "python",
   "nbconvert_exporter": "python",
   "pygments_lexer": "ipython3",
   "version": "3.10.0"
  }
 },
 "nbformat": 4,
 "nbformat_minor": 2
}
